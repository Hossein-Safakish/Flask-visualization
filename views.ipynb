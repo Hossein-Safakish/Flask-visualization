{
 "cells": [
  {
   "cell_type": "code",
   "execution_count": 1,
   "id": "4b0fd073-9b8a-40aa-b434-600e75e06490",
   "metadata": {},
   "outputs": [],
   "source": [
    "from flask import Blueprint"
   ]
  },
  {
   "cell_type": "code",
   "execution_count": null,
   "id": "f12b0a4f-c912-44fd-840c-ff5b54e7f97a",
   "metadata": {},
   "outputs": [],
   "source": []
  }
 ],
 "metadata": {
  "kernelspec": {
   "display_name": "e3",
   "language": "python",
   "name": "e3"
  },
  "language_info": {
   "codemirror_mode": {
    "name": "ipython",
    "version": 3
   },
   "file_extension": ".py",
   "mimetype": "text/x-python",
   "name": "python",
   "nbconvert_exporter": "python",
   "pygments_lexer": "ipython3",
   "version": "3.7.16"
  }
 },
 "nbformat": 4,
 "nbformat_minor": 5
}
